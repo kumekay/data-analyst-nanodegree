{
 "cells": [
  {
   "cell_type": "code",
   "execution_count": 1,
   "metadata": {
    "collapsed": true
   },
   "outputs": [],
   "source": [
    "# Imports\n",
    "import matplotlib.pyplot as plt\n",
    "import pandas as pd"
   ]
  },
  {
   "cell_type": "code",
   "execution_count": 2,
   "metadata": {
    "collapsed": true
   },
   "outputs": [],
   "source": [
    "# Read Raw data\n",
    "df = pd.read_csv(\"DRc5a2011-2014.txt\",sep=\",\")"
   ]
  },
  {
   "cell_type": "code",
   "execution_count": 3,
   "metadata": {
    "collapsed": false
   },
   "outputs": [],
   "source": [
    "# Read IDC code groups description\n",
    "idc_groups = pd.read_csv(\"idc_codes.txt\",sep=\";\")"
   ]
  },
  {
   "cell_type": "code",
   "execution_count": 4,
   "metadata": {
    "collapsed": false
   },
   "outputs": [],
   "source": [
    "# Initial filtering\n",
    "# Reg == 1100 - Whole Russia\n",
    "# CCl == 10 - IDC 10 codes\n",
    "# Group == T - urban and rural population together\n",
    "df = df[(df.Reg == 1100) & (df.CCl == 10) & (df.Group == \"T\")].drop(['Reg','Group','CCl'], 1)"
   ]
  },
  {
   "cell_type": "markdown",
   "metadata": {},
   "source": [
    "## Prepare data for gender/age plot"
   ]
  },
  {
   "cell_type": "code",
   "execution_count": 54,
   "metadata": {
    "collapsed": false
   },
   "outputs": [],
   "source": [
    "# Remove info about cause of death\n",
    "by_gender_and_age = df[(df.Cause == 0)].drop(['Cause'], 1)"
   ]
  },
  {
   "cell_type": "code",
   "execution_count": 55,
   "metadata": {
    "collapsed": false
   },
   "outputs": [],
   "source": [
    "# Convert group names to integers\n",
    "new_columns = []\n",
    "for column in by_gender_and_age.columns:\n",
    "    if column[:4] == 'Drac':\n",
    "        new_columns.append(int(column[4:]))\n",
    "    else:\n",
    "        new_columns.append(column)\n",
    "        \n",
    "by_gender_and_age.columns = new_columns"
   ]
  },
  {
   "cell_type": "code",
   "execution_count": 56,
   "metadata": {
    "collapsed": false
   },
   "outputs": [],
   "source": [
    "gae_columns = ['Year', 'Sex',  'Age Group', 'Deaths']\n",
    "gae = pd.DataFrame([], columns=gae_columns)\n",
    "for index, row in by_gender_and_age.iterrows():\n",
    "    sex = \"Male\" if (row['Sex'] == \"M\") else \"Female\"\n",
    "    for i in [0, 1] + range(5, 90, 5):\n",
    "        gae = gae.append(pd.DataFrame([[row['Year'], sex, i, row[i]]], columns=gae_columns))"
   ]
  },
  {
   "cell_type": "code",
   "execution_count": 57,
   "metadata": {
    "collapsed": true
   },
   "outputs": [],
   "source": [
    "# Export to JSON file\n",
    "gae.to_json('../data/by_gender_and_age.json', 'records')"
   ]
  },
  {
   "cell_type": "code",
   "execution_count": null,
   "metadata": {
    "collapsed": true
   },
   "outputs": [],
   "source": []
  }
 ],
 "metadata": {
  "kernelspec": {
   "display_name": "Python 2",
   "language": "python",
   "name": "python2"
  },
  "language_info": {
   "codemirror_mode": {
    "name": "ipython",
    "version": 2
   },
   "file_extension": ".py",
   "mimetype": "text/x-python",
   "name": "python",
   "nbconvert_exporter": "python",
   "pygments_lexer": "ipython2",
   "version": "2.7.10"
  }
 },
 "nbformat": 4,
 "nbformat_minor": 0
}
