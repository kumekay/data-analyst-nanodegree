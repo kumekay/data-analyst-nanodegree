{
 "metadata": {
  "name": "",
  "signature": "sha256:933c631b1d84e84c1d9909578ada728265b1de6291e8c01d9911c0c5e4a37e83"
 },
 "nbformat": 3,
 "nbformat_minor": 0,
 "worksheets": []
}